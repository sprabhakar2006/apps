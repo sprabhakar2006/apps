{
 "cells": [
  {
   "cell_type": "code",
   "execution_count": 2,
   "metadata": {},
   "outputs": [
    {
     "data": {
      "image/png": "[encoded data removed]",
      "text/plain": [
       "<Figure size 504x3.6 with 1 Axes>"
      ]
     },
     "metadata": {},
     "output_type": "display_data"
    },
    {
     "data": {
      "application/vnd.jupyter.widget-view+json": {
       "model_id": "e8af3a54f8884d818012bbebe59a9573",
       "version_major": 2,
       "version_minor": 0
      },
      "text/plain": [
       "VBox(children=(FloatText(value=100000.0, description='Loan amount', layout=Layout(margin='0 0 0 0', padding='0…"
      ]
     },
     "metadata": {},
     "output_type": "display_data"
    },
    {
     "data": {
      "application/vnd.jupyter.widget-view+json": {
       "model_id": "2158b6caddfe4113919ee3608a0e018a",
       "version_major": 2,
       "version_minor": 0
      },
      "text/plain": [
       "Output()"
      ]
     },
     "metadata": {},
     "output_type": "display_data"
    }
   ],
   "source": [
    "import pandas as pd\n",
    "import matplotlib.pyplot as plt\n",
    "import ipywidgets as widgets\n",
    "from IPython.display import display\n",
    "from ipywidgets import *\n",
    "import numpy as np\n",
    "\n",
    "layout={'width':'350px','margin':'0 0 0 0','padding':'0 0 0 0'}\n",
    "style={'description_width':'150px'}\n",
    "principle = widgets.FloatText(value=100000,description='Loan amount',layout=layout,style=style)\n",
    "RateOfInterest=widgets.FloatText(value=8,description='Annual Interest Rate(%)',layout=layout,style=style)\n",
    "duration=widgets.FloatText(value=60,description='duration(months)',layout=layout,style=style)\n",
    "def emi(principle,RateOfInterest,duration):\n",
    "    i=RateOfInterest/100/12\n",
    "    a=1+i\n",
    "    p=principle\n",
    "    n=duration\n",
    "    emi=p*(1+i)**n/(((1+i)**n-1)/(1+i-1))\n",
    "    e=emi\n",
    "    total_interest_paid=(p*(a**(n+1)-a)/(a-1)-e*(a**(n+1)-a)/(a-1)**2+e*n/(a-1)+p)*i\n",
    "    print('EMI: {} \\n\\nTotal interest paid: {}'.format(int(round(emi,0)),int(round(total_interest_paid,0))))\n",
    "fig,ax=plt.subplots(1,figsize=(7,.05))\n",
    "plt.title('EMI Calculator',fontsize=15,fontweight='heavy',color='b',loc='center')\n",
    "plt.xticks([])\n",
    "plt.yticks([])\n",
    "display(VBox([principle,RateOfInterest,duration]),\n",
    "widgets.interactive_output(emi,{'principle':principle,'RateOfInterest':RateOfInterest,'duration':duration}))"
   ]
  }
 ],
 "metadata": {
  "kernelspec": {
   "display_name": "Python 3",
   "language": "python",
   "name": "python3"
  },
  "language_info": {
   "codemirror_mode": {
    "name": "ipython",
    "version": 3
   },
   "file_extension": ".py",
   "mimetype": "text/x-python",
   "name": "python",
   "nbconvert_exporter": "python",
   "pygments_lexer": "ipython3",
   "version": "3.7.4"
  }
 },
 "nbformat": 4,
 "nbformat_minor": 2
}
